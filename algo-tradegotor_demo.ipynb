{
 "cells": [
  {
   "cell_type": "markdown",
   "id": "415bdbc0-be2e-4139-a221-0bd14ec6cf99",
   "metadata": {},
   "source": [
    "# Welcome to Trade-a-gator\n",
    "### A Signal-aggregated Trading Algo\n",
    "In this Notebook we: -\n",
    "- Blah"
   ]
  },
  {
   "cell_type": "markdown",
   "id": "947fb7d3-5865-4b65-8819-07b490210f63",
   "metadata": {},
   "source": [
    "---"
   ]
  },
  {
   "cell_type": "markdown",
   "id": "a6a0f7c2-5b1f-4f9c-a7ad-cdfbfa192298",
   "metadata": {},
   "source": [
    "### Import Libraries and Dependencies"
   ]
  },
  {
   "cell_type": "code",
   "execution_count": 2,
   "id": "9f1e1cd6-dc88-4055-a39e-b3727e07a77a",
   "metadata": {},
   "outputs": [],
   "source": [
    "# Import libraries and dependencies\n",
    "import pandas as pd\n",
    "import numpy as np\n",
    "from pathlib import Path\n",
    "%matplotlib inline\n",
    "\n",
    "import warnings\n",
    "warnings.filterwarnings('ignore')"
   ]
  },
  {
   "cell_type": "markdown",
   "id": "8bf6ac50-142c-4855-8885-0f370c1704e5",
   "metadata": {},
   "source": [
    "### Sub-section"
   ]
  },
  {
   "cell_type": "code",
   "execution_count": 3,
   "id": "1de719e5-d34e-4db3-8d17-449b8e8042d1",
   "metadata": {},
   "outputs": [
    {
     "data": {
      "text/html": [
       "<div>\n",
       "<style scoped>\n",
       "    .dataframe tbody tr th:only-of-type {\n",
       "        vertical-align: middle;\n",
       "    }\n",
       "\n",
       "    .dataframe tbody tr th {\n",
       "        vertical-align: top;\n",
       "    }\n",
       "\n",
       "    .dataframe thead th {\n",
       "        text-align: right;\n",
       "    }\n",
       "</style>\n",
       "<table border=\"1\" class=\"dataframe\">\n",
       "  <thead>\n",
       "    <tr style=\"text-align: right;\">\n",
       "      <th></th>\n",
       "      <th>Timestamp</th>\n",
       "      <th>Open</th>\n",
       "      <th>High</th>\n",
       "      <th>Low</th>\n",
       "      <th>Close</th>\n",
       "      <th>Volume</th>\n",
       "      <th>Symbol</th>\n",
       "    </tr>\n",
       "  </thead>\n",
       "  <tbody>\n",
       "    <tr>\n",
       "      <th>0</th>\n",
       "      <td>2019-08-26 17:00:00+00:00</td>\n",
       "      <td>10324.6</td>\n",
       "      <td>10333.9</td>\n",
       "      <td>10292.7</td>\n",
       "      <td>10300.0</td>\n",
       "      <td>134.471765</td>\n",
       "      <td>BTC/USD</td>\n",
       "    </tr>\n",
       "    <tr>\n",
       "      <th>1</th>\n",
       "      <td>2019-08-26 18:00:00+00:00</td>\n",
       "      <td>10300.0</td>\n",
       "      <td>10305.0</td>\n",
       "      <td>10261.0</td>\n",
       "      <td>10290.9</td>\n",
       "      <td>131.790626</td>\n",
       "      <td>BTC/USD</td>\n",
       "    </tr>\n",
       "    <tr>\n",
       "      <th>2</th>\n",
       "      <td>2019-08-26 19:00:00+00:00</td>\n",
       "      <td>10290.9</td>\n",
       "      <td>10325.1</td>\n",
       "      <td>10290.0</td>\n",
       "      <td>10310.0</td>\n",
       "      <td>78.294890</td>\n",
       "      <td>BTC/USD</td>\n",
       "    </tr>\n",
       "    <tr>\n",
       "      <th>3</th>\n",
       "      <td>2019-08-26 20:00:00+00:00</td>\n",
       "      <td>10311.5</td>\n",
       "      <td>10312.8</td>\n",
       "      <td>10147.5</td>\n",
       "      <td>10262.6</td>\n",
       "      <td>354.930190</td>\n",
       "      <td>BTC/USD</td>\n",
       "    </tr>\n",
       "    <tr>\n",
       "      <th>4</th>\n",
       "      <td>2019-08-26 21:00:00+00:00</td>\n",
       "      <td>10265.4</td>\n",
       "      <td>10308.1</td>\n",
       "      <td>10189.7</td>\n",
       "      <td>10274.6</td>\n",
       "      <td>570.039335</td>\n",
       "      <td>BTC/USD</td>\n",
       "    </tr>\n",
       "    <tr>\n",
       "      <th>...</th>\n",
       "      <td>...</td>\n",
       "      <td>...</td>\n",
       "      <td>...</td>\n",
       "      <td>...</td>\n",
       "      <td>...</td>\n",
       "      <td>...</td>\n",
       "      <td>...</td>\n",
       "    </tr>\n",
       "    <tr>\n",
       "      <th>715</th>\n",
       "      <td>2019-09-25 12:00:00+00:00</td>\n",
       "      <td>8336.7</td>\n",
       "      <td>8363.9</td>\n",
       "      <td>8000.0</td>\n",
       "      <td>8305.7</td>\n",
       "      <td>1295.424881</td>\n",
       "      <td>BTC/USD</td>\n",
       "    </tr>\n",
       "    <tr>\n",
       "      <th>716</th>\n",
       "      <td>2019-09-25 13:00:00+00:00</td>\n",
       "      <td>8305.7</td>\n",
       "      <td>8442.5</td>\n",
       "      <td>8278.0</td>\n",
       "      <td>8388.2</td>\n",
       "      <td>459.187772</td>\n",
       "      <td>BTC/USD</td>\n",
       "    </tr>\n",
       "    <tr>\n",
       "      <th>717</th>\n",
       "      <td>2019-09-25 14:00:00+00:00</td>\n",
       "      <td>8392.0</td>\n",
       "      <td>8478.4</td>\n",
       "      <td>8375.0</td>\n",
       "      <td>8379.0</td>\n",
       "      <td>466.040826</td>\n",
       "      <td>BTC/USD</td>\n",
       "    </tr>\n",
       "    <tr>\n",
       "      <th>718</th>\n",
       "      <td>2019-09-25 15:00:00+00:00</td>\n",
       "      <td>8385.4</td>\n",
       "      <td>8430.0</td>\n",
       "      <td>8294.5</td>\n",
       "      <td>8294.5</td>\n",
       "      <td>259.406669</td>\n",
       "      <td>BTC/USD</td>\n",
       "    </tr>\n",
       "    <tr>\n",
       "      <th>719</th>\n",
       "      <td>2019-09-25 16:00:00+00:00</td>\n",
       "      <td>8294.5</td>\n",
       "      <td>8373.6</td>\n",
       "      <td>8226.5</td>\n",
       "      <td>8323.8</td>\n",
       "      <td>467.840059</td>\n",
       "      <td>BTC/USD</td>\n",
       "    </tr>\n",
       "  </tbody>\n",
       "</table>\n",
       "<p>720 rows × 7 columns</p>\n",
       "</div>"
      ],
      "text/plain": [
       "                     Timestamp     Open     High      Low    Close  \\\n",
       "0    2019-08-26 17:00:00+00:00  10324.6  10333.9  10292.7  10300.0   \n",
       "1    2019-08-26 18:00:00+00:00  10300.0  10305.0  10261.0  10290.9   \n",
       "2    2019-08-26 19:00:00+00:00  10290.9  10325.1  10290.0  10310.0   \n",
       "3    2019-08-26 20:00:00+00:00  10311.5  10312.8  10147.5  10262.6   \n",
       "4    2019-08-26 21:00:00+00:00  10265.4  10308.1  10189.7  10274.6   \n",
       "..                         ...      ...      ...      ...      ...   \n",
       "715  2019-09-25 12:00:00+00:00   8336.7   8363.9   8000.0   8305.7   \n",
       "716  2019-09-25 13:00:00+00:00   8305.7   8442.5   8278.0   8388.2   \n",
       "717  2019-09-25 14:00:00+00:00   8392.0   8478.4   8375.0   8379.0   \n",
       "718  2019-09-25 15:00:00+00:00   8385.4   8430.0   8294.5   8294.5   \n",
       "719  2019-09-25 16:00:00+00:00   8294.5   8373.6   8226.5   8323.8   \n",
       "\n",
       "          Volume   Symbol  \n",
       "0     134.471765  BTC/USD  \n",
       "1     131.790626  BTC/USD  \n",
       "2      78.294890  BTC/USD  \n",
       "3     354.930190  BTC/USD  \n",
       "4     570.039335  BTC/USD  \n",
       "..           ...      ...  \n",
       "715  1295.424881  BTC/USD  \n",
       "716   459.187772  BTC/USD  \n",
       "717   466.040826  BTC/USD  \n",
       "718   259.406669  BTC/USD  \n",
       "719   467.840059  BTC/USD  \n",
       "\n",
       "[720 rows x 7 columns]"
      ]
     },
     "execution_count": 3,
     "metadata": {},
     "output_type": "execute_result"
    }
   ],
   "source": [
    "'blah'"
   ]
  },
  {
   "cell_type": "markdown",
   "id": "5d95e0f2-98b6-4ca2-bdf5-5d6c507b564b",
   "metadata": {},
   "source": [
    "### Sub-Section"
   ]
  },
  {
   "cell_type": "code",
   "execution_count": null,
   "id": "70d1e478-83c6-4433-a463-b2b3d996742b",
   "metadata": {},
   "outputs": [],
   "source": [
    "'blah'"
   ]
  },
  {
   "cell_type": "markdown",
   "id": "17f6b3ac-0702-4dfd-8bd8-d5f96ceee779",
   "metadata": {},
   "source": [
    "## Next Section"
   ]
  },
  {
   "cell_type": "code",
   "execution_count": 1,
   "id": "3fbef675-9a22-4231-a595-639887269c9d",
   "metadata": {},
   "outputs": [
    {
     "data": {
      "text/plain": [
       "'blah'"
      ]
     },
     "execution_count": 1,
     "metadata": {},
     "output_type": "execute_result"
    }
   ],
   "source": [
    "'blah'"
   ]
  },
  {
   "cell_type": "markdown",
   "id": "ff50adcd-ccd9-4acd-8440-b62537090eb5",
   "metadata": {},
   "source": [
    "### Calculate signals"
   ]
  },
  {
   "cell_type": "code",
   "execution_count": null,
   "id": "b0e2438d-5b0c-4e6b-8d3f-5875fa088140",
   "metadata": {},
   "outputs": [],
   "source": [
    "'blah'"
   ]
  },
  {
   "cell_type": "code",
   "execution_count": null,
   "id": "0e48ffe3-ca9e-4312-b719-d57f61afb3ef",
   "metadata": {},
   "outputs": [],
   "source": []
  },
  {
   "cell_type": "code",
   "execution_count": null,
   "id": "f209dc2e-7224-441a-a49d-01142f1c3e35",
   "metadata": {},
   "outputs": [],
   "source": []
  },
  {
   "cell_type": "code",
   "execution_count": null,
   "id": "ab82b06a-d226-4691-893f-243761773786",
   "metadata": {},
   "outputs": [],
   "source": []
  }
 ],
 "metadata": {
  "kernelspec": {
   "display_name": "Python 3",
   "language": "python",
   "name": "python3"
  },
  "language_info": {
   "codemirror_mode": {
    "name": "ipython",
    "version": 3
   },
   "file_extension": ".py",
   "mimetype": "text/x-python",
   "name": "python",
   "nbconvert_exporter": "python",
   "pygments_lexer": "ipython3",
   "version": "3.7.10"
  }
 },
 "nbformat": 4,
 "nbformat_minor": 5
}
